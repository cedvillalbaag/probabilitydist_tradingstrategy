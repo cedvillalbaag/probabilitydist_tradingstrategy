{
 "cells": [
  {
   "cell_type": "markdown",
   "metadata": {},
   "source": [
    "# Probability Distribution, Statistics - Algorithmic Trading"
   ]
  },
  {
   "cell_type": "code",
   "execution_count": 33,
   "metadata": {},
   "outputs": [],
   "source": [
    "# Import Libraries\n",
    "import yfinance as yf\n",
    "import pandas as pd\n",
    "import numpy as np\n",
    "import matplotlib.pyplot as plt\n",
    "import seaborn as sns\n",
    "from datetime import datetime, timedelta\n",
    "import mplfinance as mpf\n",
    "import math\n",
    "import os\n",
    "\n",
    "import ta # librería para indicadores técnicos\n",
    "from scipy.stats import norm # Para la distribución normal\n",
    "from math import sqrt\n",
    "# Definir Ticker\n",
    "ticker = \"TSLA\"\n",
    "from io import StringIO"
   ]
  },
  {
   "cell_type": "code",
   "execution_count": 2,
   "metadata": {},
   "outputs": [
    {
     "name": "stderr",
     "output_type": "stream",
     "text": [
      "<ipython-input-2-c54c6d24daa5>:2: FutureWarning: YF.download() has changed argument auto_adjust default to True\n",
      "  data = yf.download(\"TSLA\", start = \"2020-07-01\" , end = \"2025-07-29\")\n",
      "[*********************100%***********************]  1 of 1 completed\n"
     ]
    }
   ],
   "source": [
    "# Download data \n",
    "#data = yf.download(\"TSLA\", start = \"2020-07-01\" , end = \"2025-07-29\")"
   ]
  },
  {
   "cell_type": "code",
   "execution_count": 3,
   "metadata": {},
   "outputs": [],
   "source": [
    "# Save the data to CSV file\n",
    "#data.to_csv(\"Data/tsla.csv\")"
   ]
  },
  {
   "cell_type": "code",
   "execution_count": 4,
   "metadata": {},
   "outputs": [
    {
     "data": {
      "text/html": [
       "<div>\n",
       "<style scoped>\n",
       "    .dataframe tbody tr th:only-of-type {\n",
       "        vertical-align: middle;\n",
       "    }\n",
       "\n",
       "    .dataframe tbody tr th {\n",
       "        vertical-align: top;\n",
       "    }\n",
       "\n",
       "    .dataframe thead th {\n",
       "        text-align: right;\n",
       "    }\n",
       "</style>\n",
       "<table border=\"1\" class=\"dataframe\">\n",
       "  <thead>\n",
       "    <tr style=\"text-align: right;\">\n",
       "      <th></th>\n",
       "      <th>Unnamed: 1</th>\n",
       "      <th>Unnamed: 2</th>\n",
       "      <th>Unnamed: 3</th>\n",
       "      <th>Unnamed: 4</th>\n",
       "      <th>Unnamed: 5</th>\n",
       "    </tr>\n",
       "    <tr>\n",
       "      <th>Date</th>\n",
       "      <th></th>\n",
       "      <th></th>\n",
       "      <th></th>\n",
       "      <th></th>\n",
       "      <th></th>\n",
       "    </tr>\n",
       "  </thead>\n",
       "  <tbody>\n",
       "    <tr>\n",
       "      <th>2020-07-01</th>\n",
       "      <td>74.641998</td>\n",
       "      <td>75.688667</td>\n",
       "      <td>72.033333</td>\n",
       "      <td>72.199997</td>\n",
       "      <td>199903500</td>\n",
       "    </tr>\n",
       "    <tr>\n",
       "      <th>2020-07-02</th>\n",
       "      <td>80.577332</td>\n",
       "      <td>81.866669</td>\n",
       "      <td>79.040001</td>\n",
       "      <td>81.431999</td>\n",
       "      <td>258751500</td>\n",
       "    </tr>\n",
       "    <tr>\n",
       "      <th>2020-07-06</th>\n",
       "      <td>91.438667</td>\n",
       "      <td>91.852669</td>\n",
       "      <td>84.402664</td>\n",
       "      <td>85.112663</td>\n",
       "      <td>308548500</td>\n",
       "    </tr>\n",
       "    <tr>\n",
       "      <th>2020-07-07</th>\n",
       "      <td>92.657333</td>\n",
       "      <td>95.300003</td>\n",
       "      <td>89.113998</td>\n",
       "      <td>93.667336</td>\n",
       "      <td>322345500</td>\n",
       "    </tr>\n",
       "    <tr>\n",
       "      <th>2020-07-08</th>\n",
       "      <td>91.058670</td>\n",
       "      <td>94.484001</td>\n",
       "      <td>87.422668</td>\n",
       "      <td>93.666664</td>\n",
       "      <td>244669500</td>\n",
       "    </tr>\n",
       "    <tr>\n",
       "      <th>...</th>\n",
       "      <td>...</td>\n",
       "      <td>...</td>\n",
       "      <td>...</td>\n",
       "      <td>...</td>\n",
       "      <td>...</td>\n",
       "    </tr>\n",
       "    <tr>\n",
       "      <th>2025-07-22</th>\n",
       "      <td>332.109985</td>\n",
       "      <td>335.410004</td>\n",
       "      <td>321.549988</td>\n",
       "      <td>329.739990</td>\n",
       "      <td>77370400</td>\n",
       "    </tr>\n",
       "    <tr>\n",
       "      <th>2025-07-23</th>\n",
       "      <td>332.559998</td>\n",
       "      <td>336.200012</td>\n",
       "      <td>328.670013</td>\n",
       "      <td>330.899994</td>\n",
       "      <td>92553800</td>\n",
       "    </tr>\n",
       "    <tr>\n",
       "      <th>2025-07-24</th>\n",
       "      <td>305.299988</td>\n",
       "      <td>310.149994</td>\n",
       "      <td>300.410004</td>\n",
       "      <td>310.000000</td>\n",
       "      <td>156966000</td>\n",
       "    </tr>\n",
       "    <tr>\n",
       "      <th>2025-07-25</th>\n",
       "      <td>316.059998</td>\n",
       "      <td>323.630005</td>\n",
       "      <td>308.010010</td>\n",
       "      <td>308.739990</td>\n",
       "      <td>148227000</td>\n",
       "    </tr>\n",
       "    <tr>\n",
       "      <th>2025-07-28</th>\n",
       "      <td>325.589996</td>\n",
       "      <td>330.489990</td>\n",
       "      <td>315.690002</td>\n",
       "      <td>318.450012</td>\n",
       "      <td>112673800</td>\n",
       "    </tr>\n",
       "  </tbody>\n",
       "</table>\n",
       "<p>1274 rows × 5 columns</p>\n",
       "</div>"
      ],
      "text/plain": [
       "            Unnamed: 1  Unnamed: 2  Unnamed: 3  Unnamed: 4  Unnamed: 5\n",
       "Date                                                                  \n",
       "2020-07-01   74.641998   75.688667   72.033333   72.199997   199903500\n",
       "2020-07-02   80.577332   81.866669   79.040001   81.431999   258751500\n",
       "2020-07-06   91.438667   91.852669   84.402664   85.112663   308548500\n",
       "2020-07-07   92.657333   95.300003   89.113998   93.667336   322345500\n",
       "2020-07-08   91.058670   94.484001   87.422668   93.666664   244669500\n",
       "...                ...         ...         ...         ...         ...\n",
       "2025-07-22  332.109985  335.410004  321.549988  329.739990    77370400\n",
       "2025-07-23  332.559998  336.200012  328.670013  330.899994    92553800\n",
       "2025-07-24  305.299988  310.149994  300.410004  310.000000   156966000\n",
       "2025-07-25  316.059998  323.630005  308.010010  308.739990   148227000\n",
       "2025-07-28  325.589996  330.489990  315.690002  318.450012   112673800\n",
       "\n",
       "[1274 rows x 5 columns]"
      ]
     },
     "execution_count": 4,
     "metadata": {},
     "output_type": "execute_result"
    }
   ],
   "source": [
    "# Import data into a data frame\n",
    "data = pd.read_csv(\"data/tsla.csv\", index_col=[0], header=0, skiprows=2, parse_dates=[0])\n",
    "data"
   ]
  },
  {
   "cell_type": "code",
   "execution_count": 51,
   "metadata": {},
   "outputs": [
    {
     "ename": "ValueError",
     "evalue": "Length mismatch: Expected axis has 6 elements, new values have 5 elements",
     "output_type": "error",
     "traceback": [
      "\u001b[1;31m---------------------------------------------------------------------------\u001b[0m",
      "\u001b[1;31mValueError\u001b[0m                                Traceback (most recent call last)",
      "\u001b[1;32m<ipython-input-51-fd4f95fcf056>\u001b[0m in \u001b[0;36m<module>\u001b[1;34m\u001b[0m\n\u001b[0;32m      1\u001b[0m \u001b[1;31m# Define data frame column names\u001b[0m\u001b[1;33m\u001b[0m\u001b[1;33m\u001b[0m\u001b[1;33m\u001b[0m\u001b[0m\n\u001b[1;32m----> 2\u001b[1;33m \u001b[0mdata\u001b[0m\u001b[1;33m.\u001b[0m\u001b[0mcolumns\u001b[0m \u001b[1;33m=\u001b[0m \u001b[1;33m[\u001b[0m\u001b[1;34m'Close'\u001b[0m\u001b[1;33m,\u001b[0m \u001b[1;34m'High'\u001b[0m\u001b[1;33m,\u001b[0m \u001b[1;34m'Low'\u001b[0m\u001b[1;33m,\u001b[0m \u001b[1;34m'Open'\u001b[0m\u001b[1;33m,\u001b[0m\u001b[1;34m'Volume'\u001b[0m\u001b[1;33m]\u001b[0m\u001b[1;33m\u001b[0m\u001b[1;33m\u001b[0m\u001b[0m\n\u001b[0m",
      "\u001b[1;32m~\\anaconda3\\lib\\site-packages\\pandas\\core\\generic.py\u001b[0m in \u001b[0;36m__setattr__\u001b[1;34m(self, name, value)\u001b[0m\n\u001b[0;32m   6000\u001b[0m         \u001b[1;32mtry\u001b[0m\u001b[1;33m:\u001b[0m\u001b[1;33m\u001b[0m\u001b[1;33m\u001b[0m\u001b[0m\n\u001b[0;32m   6001\u001b[0m             \u001b[0mobject\u001b[0m\u001b[1;33m.\u001b[0m\u001b[0m__getattribute__\u001b[0m\u001b[1;33m(\u001b[0m\u001b[0mself\u001b[0m\u001b[1;33m,\u001b[0m \u001b[0mname\u001b[0m\u001b[1;33m)\u001b[0m\u001b[1;33m\u001b[0m\u001b[1;33m\u001b[0m\u001b[0m\n\u001b[1;32m-> 6002\u001b[1;33m             \u001b[1;32mreturn\u001b[0m \u001b[0mobject\u001b[0m\u001b[1;33m.\u001b[0m\u001b[0m__setattr__\u001b[0m\u001b[1;33m(\u001b[0m\u001b[0mself\u001b[0m\u001b[1;33m,\u001b[0m \u001b[0mname\u001b[0m\u001b[1;33m,\u001b[0m \u001b[0mvalue\u001b[0m\u001b[1;33m)\u001b[0m\u001b[1;33m\u001b[0m\u001b[1;33m\u001b[0m\u001b[0m\n\u001b[0m\u001b[0;32m   6003\u001b[0m         \u001b[1;32mexcept\u001b[0m \u001b[0mAttributeError\u001b[0m\u001b[1;33m:\u001b[0m\u001b[1;33m\u001b[0m\u001b[1;33m\u001b[0m\u001b[0m\n\u001b[0;32m   6004\u001b[0m             \u001b[1;32mpass\u001b[0m\u001b[1;33m\u001b[0m\u001b[1;33m\u001b[0m\u001b[0m\n",
      "\u001b[1;32m~\\anaconda3\\lib\\site-packages\\pandas\\_libs\\properties.pyx\u001b[0m in \u001b[0;36mpandas._libs.properties.AxisProperty.__set__\u001b[1;34m()\u001b[0m\n",
      "\u001b[1;32m~\\anaconda3\\lib\\site-packages\\pandas\\core\\generic.py\u001b[0m in \u001b[0;36m_set_axis\u001b[1;34m(self, axis, labels)\u001b[0m\n\u001b[0;32m    728\u001b[0m         \"\"\"\n\u001b[0;32m    729\u001b[0m         \u001b[0mlabels\u001b[0m \u001b[1;33m=\u001b[0m \u001b[0mensure_index\u001b[0m\u001b[1;33m(\u001b[0m\u001b[0mlabels\u001b[0m\u001b[1;33m)\u001b[0m\u001b[1;33m\u001b[0m\u001b[1;33m\u001b[0m\u001b[0m\n\u001b[1;32m--> 730\u001b[1;33m         \u001b[0mself\u001b[0m\u001b[1;33m.\u001b[0m\u001b[0m_mgr\u001b[0m\u001b[1;33m.\u001b[0m\u001b[0mset_axis\u001b[0m\u001b[1;33m(\u001b[0m\u001b[0maxis\u001b[0m\u001b[1;33m,\u001b[0m \u001b[0mlabels\u001b[0m\u001b[1;33m)\u001b[0m\u001b[1;33m\u001b[0m\u001b[1;33m\u001b[0m\u001b[0m\n\u001b[0m\u001b[0;32m    731\u001b[0m         \u001b[0mself\u001b[0m\u001b[1;33m.\u001b[0m\u001b[0m_clear_item_cache\u001b[0m\u001b[1;33m(\u001b[0m\u001b[1;33m)\u001b[0m\u001b[1;33m\u001b[0m\u001b[1;33m\u001b[0m\u001b[0m\n\u001b[0;32m    732\u001b[0m \u001b[1;33m\u001b[0m\u001b[0m\n",
      "\u001b[1;32m~\\anaconda3\\lib\\site-packages\\pandas\\core\\internals\\managers.py\u001b[0m in \u001b[0;36mset_axis\u001b[1;34m(self, axis, new_labels)\u001b[0m\n\u001b[0;32m    223\u001b[0m     \u001b[1;32mdef\u001b[0m \u001b[0mset_axis\u001b[0m\u001b[1;33m(\u001b[0m\u001b[0mself\u001b[0m\u001b[1;33m,\u001b[0m \u001b[0maxis\u001b[0m\u001b[1;33m:\u001b[0m \u001b[0mAxisInt\u001b[0m\u001b[1;33m,\u001b[0m \u001b[0mnew_labels\u001b[0m\u001b[1;33m:\u001b[0m \u001b[0mIndex\u001b[0m\u001b[1;33m)\u001b[0m \u001b[1;33m->\u001b[0m \u001b[1;32mNone\u001b[0m\u001b[1;33m:\u001b[0m\u001b[1;33m\u001b[0m\u001b[1;33m\u001b[0m\u001b[0m\n\u001b[0;32m    224\u001b[0m         \u001b[1;31m# Caller is responsible for ensuring we have an Index object.\u001b[0m\u001b[1;33m\u001b[0m\u001b[1;33m\u001b[0m\u001b[1;33m\u001b[0m\u001b[0m\n\u001b[1;32m--> 225\u001b[1;33m         \u001b[0mself\u001b[0m\u001b[1;33m.\u001b[0m\u001b[0m_validate_set_axis\u001b[0m\u001b[1;33m(\u001b[0m\u001b[0maxis\u001b[0m\u001b[1;33m,\u001b[0m \u001b[0mnew_labels\u001b[0m\u001b[1;33m)\u001b[0m\u001b[1;33m\u001b[0m\u001b[1;33m\u001b[0m\u001b[0m\n\u001b[0m\u001b[0;32m    226\u001b[0m         \u001b[0mself\u001b[0m\u001b[1;33m.\u001b[0m\u001b[0maxes\u001b[0m\u001b[1;33m[\u001b[0m\u001b[0maxis\u001b[0m\u001b[1;33m]\u001b[0m \u001b[1;33m=\u001b[0m \u001b[0mnew_labels\u001b[0m\u001b[1;33m\u001b[0m\u001b[1;33m\u001b[0m\u001b[0m\n\u001b[0;32m    227\u001b[0m \u001b[1;33m\u001b[0m\u001b[0m\n",
      "\u001b[1;32m~\\anaconda3\\lib\\site-packages\\pandas\\core\\internals\\base.py\u001b[0m in \u001b[0;36m_validate_set_axis\u001b[1;34m(self, axis, new_labels)\u001b[0m\n\u001b[0;32m     68\u001b[0m \u001b[1;33m\u001b[0m\u001b[0m\n\u001b[0;32m     69\u001b[0m         \u001b[1;32melif\u001b[0m \u001b[0mnew_len\u001b[0m \u001b[1;33m!=\u001b[0m \u001b[0mold_len\u001b[0m\u001b[1;33m:\u001b[0m\u001b[1;33m\u001b[0m\u001b[1;33m\u001b[0m\u001b[0m\n\u001b[1;32m---> 70\u001b[1;33m             raise ValueError(\n\u001b[0m\u001b[0;32m     71\u001b[0m                 \u001b[1;34mf\"Length mismatch: Expected axis has {old_len} elements, new \"\u001b[0m\u001b[1;33m\u001b[0m\u001b[1;33m\u001b[0m\u001b[0m\n\u001b[0;32m     72\u001b[0m                 \u001b[1;34mf\"values have {new_len} elements\"\u001b[0m\u001b[1;33m\u001b[0m\u001b[1;33m\u001b[0m\u001b[0m\n",
      "\u001b[1;31mValueError\u001b[0m: Length mismatch: Expected axis has 6 elements, new values have 5 elements"
     ]
    }
   ],
   "source": [
    "# Define data frame column names\n",
    "data.columns = ['Close', 'High', 'Low', 'Open','Volume']\n"
   ]
  },
  {
   "cell_type": "code",
   "execution_count": 6,
   "metadata": {},
   "outputs": [],
   "source": [
    "data = data.iloc[2:]"
   ]
  },
  {
   "cell_type": "code",
   "execution_count": 7,
   "metadata": {},
   "outputs": [],
   "source": [
    "data.index = pd.to_datetime(data.index, errors='coerce')"
   ]
  },
  {
   "cell_type": "code",
   "execution_count": 8,
   "metadata": {},
   "outputs": [
    {
     "data": {
      "text/html": [
       "<div>\n",
       "<style scoped>\n",
       "    .dataframe tbody tr th:only-of-type {\n",
       "        vertical-align: middle;\n",
       "    }\n",
       "\n",
       "    .dataframe tbody tr th {\n",
       "        vertical-align: top;\n",
       "    }\n",
       "\n",
       "    .dataframe thead th {\n",
       "        text-align: right;\n",
       "    }\n",
       "</style>\n",
       "<table border=\"1\" class=\"dataframe\">\n",
       "  <thead>\n",
       "    <tr style=\"text-align: right;\">\n",
       "      <th></th>\n",
       "      <th>Close</th>\n",
       "      <th>High</th>\n",
       "      <th>Low</th>\n",
       "      <th>Open</th>\n",
       "      <th>Volume</th>\n",
       "    </tr>\n",
       "  </thead>\n",
       "  <tbody>\n",
       "    <tr>\n",
       "      <th>count</th>\n",
       "      <td>1272.000000</td>\n",
       "      <td>1272.000000</td>\n",
       "      <td>1272.000000</td>\n",
       "      <td>1272.000000</td>\n",
       "      <td>1.272000e+03</td>\n",
       "    </tr>\n",
       "    <tr>\n",
       "      <th>mean</th>\n",
       "      <td>241.366862</td>\n",
       "      <td>246.927231</td>\n",
       "      <td>235.586341</td>\n",
       "      <td>241.449001</td>\n",
       "      <td>1.097488e+08</td>\n",
       "    </tr>\n",
       "    <tr>\n",
       "      <th>std</th>\n",
       "      <td>69.699278</td>\n",
       "      <td>71.463101</td>\n",
       "      <td>68.061788</td>\n",
       "      <td>69.950109</td>\n",
       "      <td>5.569551e+07</td>\n",
       "    </tr>\n",
       "    <tr>\n",
       "      <th>min</th>\n",
       "      <td>91.058670</td>\n",
       "      <td>91.852669</td>\n",
       "      <td>84.402664</td>\n",
       "      <td>85.112663</td>\n",
       "      <td>2.940180e+07</td>\n",
       "    </tr>\n",
       "    <tr>\n",
       "      <th>25%</th>\n",
       "      <td>194.007504</td>\n",
       "      <td>198.600006</td>\n",
       "      <td>189.440002</td>\n",
       "      <td>193.830002</td>\n",
       "      <td>7.398162e+07</td>\n",
       "    </tr>\n",
       "    <tr>\n",
       "      <th>50%</th>\n",
       "      <td>236.518333</td>\n",
       "      <td>240.513336</td>\n",
       "      <td>231.649994</td>\n",
       "      <td>235.671669</td>\n",
       "      <td>9.755150e+07</td>\n",
       "    </tr>\n",
       "    <tr>\n",
       "      <th>75%</th>\n",
       "      <td>282.127502</td>\n",
       "      <td>286.680832</td>\n",
       "      <td>274.563332</td>\n",
       "      <td>281.364990</td>\n",
       "      <td>1.285202e+08</td>\n",
       "    </tr>\n",
       "    <tr>\n",
       "      <th>max</th>\n",
       "      <td>479.859985</td>\n",
       "      <td>488.540009</td>\n",
       "      <td>457.510010</td>\n",
       "      <td>475.899994</td>\n",
       "      <td>6.663786e+08</td>\n",
       "    </tr>\n",
       "  </tbody>\n",
       "</table>\n",
       "</div>"
      ],
      "text/plain": [
       "             Close         High          Low         Open        Volume\n",
       "count  1272.000000  1272.000000  1272.000000  1272.000000  1.272000e+03\n",
       "mean    241.366862   246.927231   235.586341   241.449001  1.097488e+08\n",
       "std      69.699278    71.463101    68.061788    69.950109  5.569551e+07\n",
       "min      91.058670    91.852669    84.402664    85.112663  2.940180e+07\n",
       "25%     194.007504   198.600006   189.440002   193.830002  7.398162e+07\n",
       "50%     236.518333   240.513336   231.649994   235.671669  9.755150e+07\n",
       "75%     282.127502   286.680832   274.563332   281.364990  1.285202e+08\n",
       "max     479.859985   488.540009   457.510010   475.899994  6.663786e+08"
      ]
     },
     "execution_count": 8,
     "metadata": {},
     "output_type": "execute_result"
    }
   ],
   "source": [
    "data.describe()"
   ]
  },
  {
   "cell_type": "code",
   "execution_count": 9,
   "metadata": {},
   "outputs": [
    {
     "name": "stdout",
     "output_type": "stream",
     "text": [
      "<class 'pandas.core.frame.DataFrame'>\n",
      "DatetimeIndex: 1272 entries, 2020-07-06 to 2025-07-28\n",
      "Data columns (total 5 columns):\n",
      " #   Column  Non-Null Count  Dtype  \n",
      "---  ------  --------------  -----  \n",
      " 0   Close   1272 non-null   float64\n",
      " 1   High    1272 non-null   float64\n",
      " 2   Low     1272 non-null   float64\n",
      " 3   Open    1272 non-null   float64\n",
      " 4   Volume  1272 non-null   int64  \n",
      "dtypes: float64(4), int64(1)\n",
      "memory usage: 59.6 KB\n"
     ]
    }
   ],
   "source": [
    "data.info()"
   ]
  },
  {
   "cell_type": "markdown",
   "metadata": {},
   "source": [
    "## Calculation of Daily and Cumulative Stock Return"
   ]
  },
  {
   "cell_type": "code",
   "execution_count": 11,
   "metadata": {},
   "outputs": [
    {
     "name": "stderr",
     "output_type": "stream",
     "text": [
      "<ipython-input-11-b330461d6ae3>:2: SettingWithCopyWarning: \n",
      "A value is trying to be set on a copy of a slice from a DataFrame.\n",
      "Try using .loc[row_indexer,col_indexer] = value instead\n",
      "\n",
      "See the caveats in the documentation: https://pandas.pydata.org/pandas-docs/stable/user_guide/indexing.html#returning-a-view-versus-a-copy\n",
      "  data[\"d_returns\"] = np.log(data.Close.div(data.Close.shift(1)))\n"
     ]
    }
   ],
   "source": [
    "# Calculate Daily Returns\n",
    "data[\"d_returns\"] = np.log(data.Close.div(data.Close.shift(1)))"
   ]
  },
  {
   "cell_type": "code",
   "execution_count": 12,
   "metadata": {},
   "outputs": [
    {
     "name": "stderr",
     "output_type": "stream",
     "text": [
      "<ipython-input-12-f1116dacf2bb>:1: SettingWithCopyWarning: \n",
      "A value is trying to be set on a copy of a slice from a DataFrame\n",
      "\n",
      "See the caveats in the documentation: https://pandas.pydata.org/pandas-docs/stable/user_guide/indexing.html#returning-a-view-versus-a-copy\n",
      "  data.dropna(inplace=True)\n"
     ]
    }
   ],
   "source": [
    "data.dropna(inplace=True)"
   ]
  },
  {
   "cell_type": "code",
   "execution_count": 13,
   "metadata": {},
   "outputs": [
    {
     "data": {
      "text/plain": [
       "1.2699704651113395"
      ]
     },
     "execution_count": 13,
     "metadata": {},
     "output_type": "execute_result"
    }
   ],
   "source": [
    "# Calculate Sum Returns\n",
    "data.d_returns.sum()"
   ]
  },
  {
   "cell_type": "code",
   "execution_count": 14,
   "metadata": {},
   "outputs": [
    {
     "data": {
      "text/plain": [
       "3.5607473945246224"
      ]
     },
     "execution_count": 14,
     "metadata": {},
     "output_type": "execute_result"
    }
   ],
   "source": [
    "# Si hubiesemeos invertido un dolar\n",
    "np.exp(data.d_returns.sum())"
   ]
  },
  {
   "cell_type": "code",
   "execution_count": 18,
   "metadata": {},
   "outputs": [],
   "source": [
    "# Calculate Return (%)\n",
    "ret = data.Close.pct_change().dropna()"
   ]
  },
  {
   "cell_type": "code",
   "execution_count": 20,
   "metadata": {},
   "outputs": [
    {
     "name": "stdout",
     "output_type": "stream",
     "text": [
      "<class 'pandas.core.series.Series'>\n",
      "DatetimeIndex: 1270 entries, 2020-07-08 to 2025-07-28\n",
      "Series name: Close\n",
      "Non-Null Count  Dtype  \n",
      "--------------  -----  \n",
      "1270 non-null   float64\n",
      "dtypes: float64(1)\n",
      "memory usage: 19.8 KB\n"
     ]
    }
   ],
   "source": [
    "# Para obtener el numero de bins correcto debemos saber la cantidad de filas\n",
    "ret.info()"
   ]
  },
  {
   "cell_type": "code",
   "execution_count": 21,
   "metadata": {},
   "outputs": [],
   "source": [
    "# Calculate Bins Number\n",
    "number = len(data) - 1\n",
    "number\n",
    "number_bins = int(math.sqrt(number))"
   ]
  },
  {
   "cell_type": "code",
   "execution_count": 52,
   "metadata": {},
   "outputs": [
    {
     "data": {
      "image/png": "[encoded data removed]",
      "text/plain": [
       "<Figure size 864x576 with 1 Axes>"
      ]
     },
     "metadata": {
      "needs_background": "light"
     },
     "output_type": "display_data"
    }
   ],
   "source": [
    "# Create a probability distribution\n",
    "mean_ret = ret.mean()\n",
    "median_ret = ret.median()\n",
    "std_ret = ret.std()\n",
    "\n",
    "\n",
    "ret.plot(kind=\"hist\", figsize = (12,8), bins = number_bins, color=\"blue\")\n",
    "sns.histplot(ret, bins=number_bins, color=\"blue\", stat=\"density\", kde=True)\n",
    "\n",
    "# --- 2. Title and Label Axles ---\n",
    "plt.title(\"Frequency Distribution of Daily Returns\", fontsize=18, fontweight='bold')\n",
    "plt.xlabel(\"Daily Returns\", fontsize=14)\n",
    "plt.ylabel(\"Probability Density\", fontsize=14)\n",
    "plt.xticks(fontsize=12)\n",
    "plt.yticks(fontsize=12)\n",
    "\n",
    "# --- 3. Cuadrícula Mejorada ---\n",
    "plt.grid(True, linestyle='--', alpha=0.6, color='gray') # Líneas más sutiles\n",
    "\n",
    "# --- 4. Marcar la Media, Mediana y Cero ---\n",
    "mean_ret = ret.mean()\n",
    "median_ret = ret.median()\n",
    "\n",
    "\n",
    "plt.axvline(0, color='grey', linestyle='-', linewidth=1.5, label='Zero Return') # Línea en 0\n",
    "#plt.axvline(mean_ret, color='red', linestyle='--', linewidth=2)\n",
    "#plt.axvline(median_ret, color='green', linestyle=':', linewidth=2, label=f'Mediana: {median_ret:.4f}')\n",
    "\n",
    "#--- 5. Add Standar Deviation (indicador de volatilidad) ---\n",
    "std_ret = ret.std()\n",
    "left_limit = mean_ret - std_ret\n",
    "right_limit = mean_ret + std_ret\n",
    "\n",
    "left_limit_2sigma = mean_ret - std_ret*2\n",
    "right_limit_2sigma = mean_ret + std_ret*2\n",
    "\n",
    "plt.axvline(left_limit, color='purple', linestyle='-.', linewidth=1)\n",
    "plt.axvline(right_limit, color='purple', linestyle='-.', linewidth=1)\n",
    "plt.axvline(left_limit_2sigma, color='red', linestyle='-.', linewidth=1)\n",
    "plt.axvline(right_limit_2sigma, color='red', linestyle='-.', linewidth=1)\n",
    "\n",
    "\n",
    "# --- 6. Superponer una Curva de Distribución Normal (para comparar) ---\n",
    "# Esto te permite ver qué tan \"normal\" es la distribución de tus retornos.\n",
    "xmin, xmax = plt.xlim() # Obtener los límites del eje x\n",
    "x = np.linspace(xmin, xmax, 100)\n",
    "p = norm.pdf(x, mean_ret, std_ret)\n",
    "plt.plot(x, p, 'k', linewidth=2, label='Curva Normal (Teórica)') # 'k' para negro\n",
    "\n",
    "# --- 7. Añadir Métricas Descriptivas en el Gráfico (Texto) ---\n",
    "# Calcular skewness y kurtosis para entender la forma de la distribución\n",
    "skewness = ret.skew()\n",
    "kurtosis = ret.kurtosis()\n",
    "\n",
    "# Posicionar el texto cuidadosamente\n",
    "plt.text(0.05, 0.95, f'Observations: {len(ret)}', transform=plt.gca().transAxes, fontsize=11, verticalalignment='top')\n",
    "plt.text(0.05, 0.90, f'Mean: {mean_ret:.4f}', transform=plt.gca().transAxes, fontsize=11, verticalalignment='top')\n",
    "plt.text(0.05, 0.85, f'Median: {median_ret:.4f}', transform=plt.gca().transAxes, fontsize=11, verticalalignment='top')\n",
    "plt.text(0.05, 0.80, f'Desv. Std: {std_ret:.4f}', transform=plt.gca().transAxes, fontsize=11, verticalalignment='top')\n",
    "plt.text(0.05, 0.75, f'Skewness: {skewness:.3f}', transform=plt.gca().transAxes, fontsize=11, verticalalignment='top')\n",
    "plt.text(0.05, 0.70, f'Kurtosis: {kurtosis:.3f}', transform=plt.gca().transAxes, fontsize=11, verticalalignment='top')\n",
    "\n",
    "# Ajustar el diseño para que todo quepa bien\n",
    "plt.tight_layout()\n",
    "\n",
    "# Guarda la figura\n",
    "plt.savefig(\n",
    "    'Img/Tesla_Probability Distribution with Density Curve_Plot.png',\n",
    "    dpi=300,        # Resolución en puntos por pulgada (dots per inch). Mayor DPI = mayor calidad.\n",
    "    bbox_inches='tight', # Elimina el espacio en blanco extra alrededor del gráfico\n",
    "    facecolor='white',   # Fondo blanco para el gráfico guardado (útil si tu tema es oscuro)\n",
    "    transparent=False    # Si es True, el fondo será transparente (para PNG).\n",
    ")\n",
    "\n",
    "# Visualizar en Notebook\n",
    "\n",
    "plt.show()"
   ]
  },
  {
   "cell_type": "code",
   "execution_count": 43,
   "metadata": {},
   "outputs": [
    {
     "data": {
      "text/plain": [
       "1270"
      ]
     },
     "execution_count": 43,
     "metadata": {},
     "output_type": "execute_result"
    }
   ],
   "source": [
    "len(ret)"
   ]
  },
  {
   "cell_type": "code",
   "execution_count": 44,
   "metadata": {},
   "outputs": [
    {
     "data": {
      "text/plain": [
       "12"
      ]
     },
     "execution_count": 44,
     "metadata": {},
     "output_type": "execute_result"
    }
   ],
   "source": [
    "sum(ret<-0.1)"
   ]
  },
  {
   "cell_type": "code",
   "execution_count": 46,
   "metadata": {},
   "outputs": [
    {
     "data": {
      "text/plain": [
       "2"
      ]
     },
     "execution_count": 46,
     "metadata": {},
     "output_type": "execute_result"
    }
   ],
   "source": [
    "result = ret[(ret > 0.2)& (ret < 0.3)]\n",
    "len(result)"
   ]
  },
  {
   "cell_type": "code",
   "execution_count": 48,
   "metadata": {},
   "outputs": [
    {
     "name": "stdout",
     "output_type": "stream",
     "text": [
      "Date\n",
      "2024-10-24    0.21919\n",
      "2025-04-09    0.22690\n",
      "Name: Close, dtype: float64\n"
     ]
    }
   ],
   "source": [
    "print(result)"
   ]
  }
 ],
 "metadata": {
  "hide_input": false,
  "kernelspec": {
   "display_name": "Python 3",
   "language": "python",
   "name": "python3"
  },
  "language_info": {
   "codemirror_mode": {
    "name": "ipython",
    "version": 3
   },
   "file_extension": ".py",
   "mimetype": "text/x-python",
   "name": "python",
   "nbconvert_exporter": "python",
   "pygments_lexer": "ipython3",
   "version": "3.8.5"
  },
  "toc": {
   "base_numbering": 1,
   "nav_menu": {},
   "number_sections": true,
   "sideBar": true,
   "skip_h1_title": false,
   "title_cell": "Table of Contents",
   "title_sidebar": "Contents",
   "toc_cell": false,
   "toc_position": {},
   "toc_section_display": true,
   "toc_window_display": false
  },
  "varInspector": {
   "cols": {
    "lenName": 16,
    "lenType": 16,
    "lenVar": 40
   },
   "kernels_config": {
    "python": {
     "delete_cmd_postfix": "",
     "delete_cmd_prefix": "del ",
     "library": "var_list.py",
     "varRefreshCmd": "print(var_dic_list())"
    },
    "r": {
     "delete_cmd_postfix": ") ",
     "delete_cmd_prefix": "rm(",
     "library": "var_list.r",
     "varRefreshCmd": "cat(var_dic_list()) "
    }
   },
   "types_to_exclude": [
    "module",
    "function",
    "builtin_function_or_method",
    "instance",
    "_Feature"
   ],
   "window_display": false
  }
 },
 "nbformat": 4,
 "nbformat_minor": 4
}
